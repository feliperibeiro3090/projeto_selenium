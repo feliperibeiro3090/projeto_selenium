{
 "cells": [
  {
   "cell_type": "code",
   "execution_count": 37,
   "metadata": {},
   "outputs": [],
   "source": [
    "#imports\n",
    "from selenium.webdriver.support.ui import Select\n",
    "from selenium.webdriver.common.by import By\n",
    "from selenium import webdriver\n",
    "import datetime\n",
    "import time\n",
    "from selenium.webdriver.common.by import By\n",
    "from selenium.webdriver.support.ui import WebDriverWait\n",
    "from selenium.webdriver.support import expected_conditions as EC\n"
   ]
  },
  {
   "cell_type": "code",
   "execution_count": 38,
   "metadata": {},
   "outputs": [],
   "source": [
    "#abertura do arquivo Json\n",
    "import json\n",
    "\n",
    "with open('./desafio_2.json') as file:\n",
    "    usuario = json.load(file)\n"
   ]
  },
  {
   "cell_type": "code",
   "execution_count": 39,
   "metadata": {},
   "outputs": [],
   "source": [
    "#Acessano a pagina\n",
    "driver = webdriver.Chrome()\n",
    "driver.get('https://curso-web-scraping.pages.dev/#/desafio/2')"
   ]
  },
  {
   "cell_type": "code",
   "execution_count": null,
   "metadata": {},
   "outputs": [],
   "source": [
    "for nome in usuario:\n",
    "    \n",
    "    #tempo de espera global para que os elementos sejam carregados \n",
    "    driver.implicitly_wait(time_to_wait=10)\n",
    "\n",
    "    #localiza o campo para inserir o nome baseado no json\n",
    "    busca = driver.find_element(By.XPATH, '//*[@id=\"root\"]/div/div[2]/main/div[2]/div/div[2]/input')\n",
    "    lupa = driver.find_element(By.XPATH, '//*[@id=\"root\"]/div/div[2]/main/div[2]/div/div[2]/button/i')\n",
    "\n",
    "    #limpando o campo\n",
    "    busca.clear()\n",
    "\n",
    "    #Inserindo os dados do json\n",
    "    busca.send_keys(nome)\n",
    "\n",
    "    #Setando tempo de espera entre a pesquisa de um nome e outro \n",
    "    wait = WebDriverWait(driver, timeout=5, poll_frequency=1)\n",
    "    wait.until(EC.element_to_be_clickable(mark=lupa))\n",
    "    lupa.click()\n",
    "\n",
    "    "
   ]
  }
 ],
 "metadata": {
  "kernelspec": {
   "display_name": "Python 3",
   "language": "python",
   "name": "python3"
  },
  "language_info": {
   "codemirror_mode": {
    "name": "ipython",
    "version": 3
   },
   "file_extension": ".py",
   "mimetype": "text/x-python",
   "name": "python",
   "nbconvert_exporter": "python",
   "pygments_lexer": "ipython3",
   "version": "3.13.0"
  }
 },
 "nbformat": 4,
 "nbformat_minor": 2
}
