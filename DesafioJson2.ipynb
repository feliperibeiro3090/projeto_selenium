{
 "cells": [
  {
   "cell_type": "code",
   "execution_count": null,
   "metadata": {},
   "outputs": [],
   "source": [
    "#imports\n",
    "from selenium.webdriver.support.ui import Select\n",
    "from selenium.webdriver.common.by import By\n",
    "from selenium import webdriver\n",
    "import datetime\n",
    "import time\n",
    "from selenium.webdriver.common.by import By\n",
    "from selenium.webdriver.support.ui import WebDriverWait\n",
    "from selenium.webdriver.support import expected_conditions as EC\n",
    "from dataclasses import dataclass\n"
   ]
  },
  {
   "cell_type": "code",
   "execution_count": 54,
   "metadata": {},
   "outputs": [],
   "source": [
    "#abertura do arquivo Json\n",
    "import json\n",
    "\n",
    "with open('./desafio_2.json') as file:\n",
    "    usuario = json.load(file)\n"
   ]
  },
  {
   "cell_type": "code",
   "execution_count": 55,
   "metadata": {},
   "outputs": [],
   "source": [
    "#Acessano a pagina\n",
    "driver = webdriver.Chrome()\n",
    "driver.get('https://curso-web-scraping.pages.dev/#/desafio/2')"
   ]
  },
  {
   "cell_type": "code",
   "execution_count": null,
   "metadata": {},
   "outputs": [],
   "source": [
    "@dataclass\n",
    "class Usuario:\n",
    "    nome: str\n",
    "    profissao: str\n",
    "    email: str\n",
    "    telefone: str\n",
    "    usuario: str\n",
    "    estado: str\n",
    "    foto: str\n",
    "\n",
    "dados_usuarios = []\n",
    "\n",
    "time_to_wait = 10  # Defina o tempo de espera global\n",
    "\n",
    "for nome in usuario:\n",
    "    # Tempo de espera global para que os elementos sejam carregados\n",
    "    driver.implicitly_wait(time_to_wait)\n",
    "\n",
    "    # Localiza o campo para inserir o nome baseado no JSON\n",
    "    busca = driver.find_element(By.XPATH, '//*[@id=\"root\"]/div/div[2]/main/div[2]/div/div[2]/input')\n",
    "    lupa = driver.find_element(By.XPATH, '//*[@id=\"root\"]/div/div[2]/main/div[2]/div/div[2]/button/i')\n",
    "\n",
    "    # Limpando o campo\n",
    "    busca.clear()\n",
    "\n",
    "    # Inserindo os dados do JSON\n",
    "    busca.send_keys(nome)\n",
    "\n",
    "    # Setando tempo de espera entre a pesquisa de um nome e outro\n",
    "    wait = WebDriverWait(driver, timeout=5, poll_frequency=1)\n",
    "    wait.until(EC.element_to_be_clickable((By.XPATH, '//*[@id=\"root\"]/div/div[2]/main/div[2]/div/div[2]/button/i')))\n",
    "    lupa.click()\n",
    "\n",
    "    # Esperando todos os elementos da div de cada nome carregarem \n",
    "    wait.until(EC.presence_of_all_elements_located((By.CSS_SELECTOR, 'div.users-list > div')))\n",
    "\n",
    "    # Pegando todas as divs que são filhas diretas da div \"users-list\"\n",
    "    users = driver.find_elements(By.CSS_SELECTOR, 'div.users-list > div')\n",
    "\n",
    "    # Iterando sobre cada usuário encontrado\n",
    "    for user in users:\n",
    "        foto = user.find_element(By.TAG_NAME, 'img').get_attribute(\"src\")\n",
    "        nome = user.find_element(By.TAG_NAME, 'h3').text\n",
    "        profissao = user.find_element(By.TAG_NAME, 'span').text\n",
    "        email = user.find_element(By.CSS_SELECTOR, 'ul > li:nth-child(1)').text\n",
    "        telefone = user.find_element(By.CSS_SELECTOR, 'ul > li:nth-child(2)').text\n",
    "        usuario = user.find_element(By.CSS_SELECTOR, 'ul > li:nth-child(3)').text\n",
    "        estado = user.find_element(By.CSS_SELECTOR, 'ul > li:nth-child(4)').text\n",
    "        \n",
    "        dados_usuarios.append(Usuario(nome, profissao, email, telefone, usuario, estado, foto))\n",
    "    \n",
    "\n",
    "\n",
    "for nome in dados_usuarios:\n",
    "    print(Usuario)        \n"
   ]
  }
 ],
 "metadata": {
  "kernelspec": {
   "display_name": "Python 3",
   "language": "python",
   "name": "python3"
  },
  "language_info": {
   "codemirror_mode": {
    "name": "ipython",
    "version": 3
   },
   "file_extension": ".py",
   "mimetype": "text/x-python",
   "name": "python",
   "nbconvert_exporter": "python",
   "pygments_lexer": "ipython3",
   "version": "3.13.0"
  }
 },
 "nbformat": 4,
 "nbformat_minor": 2
}
