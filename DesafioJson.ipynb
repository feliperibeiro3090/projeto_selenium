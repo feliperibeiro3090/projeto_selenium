{
 "cells": [
  {
   "cell_type": "code",
   "execution_count": null,
   "metadata": {},
   "outputs": [],
   "source": [
    "#imports\n",
    "from selenium.webdriver.support.ui import Select\n",
    "from selenium.webdriver.common.by import By\n",
    "from selenium import webdriver"
   ]
  },
  {
   "cell_type": "code",
   "execution_count": 92,
   "metadata": {},
   "outputs": [],
   "source": [
    "driver = webdriver.Chrome()\n",
    "driver.get('https://curso-web-scraping.pages.dev/#/desafio/1')"
   ]
  },
  {
   "cell_type": "code",
   "execution_count": 93,
   "metadata": {},
   "outputs": [],
   "source": [
    "#importando um arquivo json \n",
    "#o arquivo Json so será lido se estiver dentro da pasta do projeto\n",
    "import json\n",
    "\n",
    "with open('./desafio_1.json') as file:\n",
    "    data = json.load(file)"
   ]
  },
  {
   "cell_type": "code",
   "execution_count": null,
   "metadata": {},
   "outputs": [],
   "source": [
    "#Selecionando os arquivos \n",
    "email = driver.find_element(By.NAME, 'email')\n",
    "senha = driver.find_element(By.NAME, 'senha')\n",
    "\n",
    "#Input dos campos selecionados\n",
    "email.send_keys(data[0]['email'])\n",
    "senha.send_keys(data[0]['senha'])"
   ]
  },
  {
   "cell_type": "code",
   "execution_count": 95,
   "metadata": {},
   "outputs": [],
   "source": [
    "#importando o datetime que trabalha toda a questão do tempo\n",
    "import datetime\n",
    "\n",
    "dt = datetime.datetime.strptime(data[0]['data-de-nascimento'], '%Y-%m-%d')\n",
    "dt.year, dt.month, dt.day\n",
    "\n",
    "#para localizar os elementos dentro de dropdowns é necessario usar a biblioteca do select\n",
    "dia = Select(driver.find_element(By.NAME,'dia'))\n",
    "mes = Select(driver.find_element(By.NAME,'mes'))\n",
    "ano = Select(driver.find_element(By.NAME,'ano'))\n",
    "\n",
    "#agora vamos os selecionar dento dos dropdowns\n",
    "ano.select_by_visible_text(str(dt.year))\n",
    "mes.select_by_visible_text(str(dt.month))\n",
    "dia.select_by_visible_text(str(dt.day))"
   ]
  },
  {
   "cell_type": "code",
   "execution_count": null,
   "metadata": {},
   "outputs": [],
   "source": [
    "#interagindo e selecionando o botão da caixa de entrada\n",
    "newsletter = driver.find_element(By.ID, 'airplane-mode' )\n",
    "\n",
    "#eu preciso saber se o botão esta clicado e essa variavel esta vendo e armazenado isso.\n",
    "switch_on = True if newsletter.get_attribute('aria-checked') == 'true' else False\n",
    "#agora eu preciso fazer uma condição para que esse botão permaneça desativado ou seja segundo meu JSON\n",
    "if switch_on != data[0]['newsletter']:\n",
    "    newsletter.click()"
   ]
  },
  {
   "cell_type": "code",
   "execution_count": 97,
   "metadata": {},
   "outputs": [],
   "source": [
    "enviar= driver.find_element(By.CSS_SELECTOR, 'form button[type=\"submit\"]')\n",
    "enviar.click()"
   ]
  },
  {
   "cell_type": "code",
   "execution_count": 107,
   "metadata": {},
   "outputs": [],
   "source": [
    "#AUTOMATIZANDO "
   ]
  },
  {
   "cell_type": "code",
   "execution_count": 12,
   "metadata": {},
   "outputs": [],
   "source": [
    "#imports\n",
    "from selenium.webdriver.support.ui import Select\n",
    "from selenium.webdriver.common.by import By\n",
    "from selenium import webdriver\n",
    "import datetime"
   ]
  },
  {
   "cell_type": "code",
   "execution_count": 13,
   "metadata": {},
   "outputs": [],
   "source": [
    "import json\n",
    "\n",
    "with open('./desafio_1.json') as file:\n",
    "    data = json.load(file)"
   ]
  },
  {
   "cell_type": "code",
   "execution_count": 14,
   "metadata": {},
   "outputs": [],
   "source": [
    "#Acessano a pagina\n",
    "driver = webdriver.Chrome()\n",
    "driver.get('https://curso-web-scraping.pages.dev/#/desafio/1')"
   ]
  },
  {
   "cell_type": "code",
   "execution_count": 15,
   "metadata": {},
   "outputs": [],
   "source": [
    "for item in data:\n",
    "    # Localizando os campos de email e senha\n",
    "    email = driver.find_element(By.NAME, 'email')\n",
    "    senha = driver.find_element(By.NAME, 'senha')\n",
    "\n",
    "    # Limpando os campos antes de preenchê-los\n",
    "    email.clear()\n",
    "    senha.clear()\n",
    "\n",
    "    # Preenchendo email e senha\n",
    "    email.send_keys(item['email'])\n",
    "    senha.send_keys(item['senha'])\n",
    "\n",
    "    # Convertendo data de nascimento\n",
    "    dt = datetime.datetime.strptime(item['data-de-nascimento'], '%Y-%m-%d')\n",
    "\n",
    "    # Selecionando dia, mês e ano nos dropdowns\n",
    "    dia = Select(driver.find_element(By.NAME, 'dia'))\n",
    "    mes = Select(driver.find_element(By.NAME, 'mes'))\n",
    "    ano = Select(driver.find_element(By.NAME, 'ano'))\n",
    "\n",
    "    # Clicando nas opções\n",
    "    dia.select_by_visible_text(str(dt.day))\n",
    "    mes.select_by_visible_text(str(dt.month))\n",
    "    ano.select_by_visible_text(str(dt.year))\n",
    "\n",
    "    # Verificando o estado do botão newsletter\n",
    "    newsletter = driver.find_element(By.ID, 'airplane-mode')\n",
    "    switch_on = newsletter.get_attribute('aria-checked') == 'true'\n",
    "\n",
    "    if switch_on != item['newsletter']:\n",
    "        newsletter.click()\n",
    "\n",
    "    # Submetendo o formulário\n",
    "    enviar = driver.find_element(By.CSS_SELECTOR, 'form button[type=\"submit\"]')\n",
    "    enviar.click()\n"
   ]
  }
 ],
 "metadata": {
  "kernelspec": {
   "display_name": "Python 3",
   "language": "python",
   "name": "python3"
  },
  "language_info": {
   "codemirror_mode": {
    "name": "ipython",
    "version": 3
   },
   "file_extension": ".py",
   "mimetype": "text/x-python",
   "name": "python",
   "nbconvert_exporter": "python",
   "pygments_lexer": "ipython3",
   "version": "3.13.0"
  }
 },
 "nbformat": 4,
 "nbformat_minor": 2
}
