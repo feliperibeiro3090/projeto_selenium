{
 "cells": [
  {
   "cell_type": "code",
   "execution_count": null,
   "metadata": {},
   "outputs": [],
   "source": [
    "#imports\n",
    "\n",
    "from selenium.webdriver.support.ui import Select\n",
    "from selenium.webdriver.common.by import By\n",
    "from selenium import webdriver"
   ]
  },
  {
   "cell_type": "code",
   "execution_count": 15,
   "metadata": {},
   "outputs": [],
   "source": [
    "driver = webdriver.Chrome()\n",
    "driver.get('https://curso-web-scraping.pages.dev/#/desafio/1')"
   ]
  },
  {
   "cell_type": "code",
   "execution_count": null,
   "metadata": {},
   "outputs": [],
   "source": [
    "#importando um arquivo json \n",
    "#o arquivo Json so será lido se estiver dentro da pasta do projeto\n",
    "import json\n",
    "\n",
    "with open('./desafio_1.json') as file:\n",
    "    data = json.load(file)"
   ]
  },
  {
   "cell_type": "code",
   "execution_count": 18,
   "metadata": {},
   "outputs": [],
   "source": [
    "#Selecionando os arquivos \n",
    "email = driver.find_element(By.NAME, 'email')\n",
    "senha = driver.find_element(By.NAME, 'senha')\n",
    "\n",
    "#Input dos campos selecionados\n",
    "email.send_keys(data[0]['email'])\n",
    "senha.send_keys(data[0]['senha'])\n",
    "\n",
    "\n"
   ]
  },
  {
   "cell_type": "code",
   "execution_count": 32,
   "metadata": {},
   "outputs": [],
   "source": [
    "#importando o datetime que trabalha toda a questão do tempo\n",
    "import datetime\n",
    "\n",
    "dt = datetime.datetime.strptime(data[0]['data-de-nascimento'], '%Y-%m-%d')\n",
    "dt.year, dt.month, dt.day\n",
    "\n",
    "#para localizar os elementos dentro de dropdowns é necessario usar a biblioteca do select\n",
    "dia = Select(driver.find_element(By.NAME,'dia'))\n",
    "mes = Select(driver.find_element(By.NAME,'mes'))\n",
    "ano = Select(driver.find_element(By.NAME,'ano'))\n",
    "\n",
    "#agora vamos os selecionar dento dos dropdowns\n",
    "ano.select_by_visible_text(str(dt.year))\n",
    "mes.select_by_visible_text(str(dt.month))\n",
    "dia.select_by_visible_text(str(dt.day))"
   ]
  },
  {
   "cell_type": "code",
   "execution_count": 96,
   "metadata": {},
   "outputs": [],
   "source": [
    "#interagindo e selecionando o botão da caixa de entrada\n",
    "newsletter = driver.find_element(By.ID, 'airplane-mode' )\n",
    "\n",
    "#eu preciso saber se o botão esta clicado e essa variavel esta vendo e armazenado isso.\n",
    "switch_on = True if newsletter.get_attribute('aria-checked') == 'true' else False\n",
    "#agora eu preciso fazer uma condição para que esse botão permaneça desativado ou seja segundo meu JSON\n",
    "if switch_on != data[0]['newsletter']:\n",
    "    newsletter.click()\n"
   ]
  },
  {
   "cell_type": "code",
   "execution_count": 78,
   "metadata": {},
   "outputs": [
    {
     "data": {
      "text/plain": [
       "False"
      ]
     },
     "execution_count": 78,
     "metadata": {},
     "output_type": "execute_result"
    }
   ],
   "source": [
    "switch_on"
   ]
  }
 ],
 "metadata": {
  "kernelspec": {
   "display_name": "Python 3",
   "language": "python",
   "name": "python3"
  },
  "language_info": {
   "codemirror_mode": {
    "name": "ipython",
    "version": 3
   },
   "file_extension": ".py",
   "mimetype": "text/x-python",
   "name": "python",
   "nbconvert_exporter": "python",
   "pygments_lexer": "ipython3",
   "version": "3.13.0"
  }
 },
 "nbformat": 4,
 "nbformat_minor": 2
}
